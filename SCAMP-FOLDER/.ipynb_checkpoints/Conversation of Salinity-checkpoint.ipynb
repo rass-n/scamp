{
 "metadata": {
  "name": ""
 },
 "nbformat": 3,
 "nbformat_minor": 0,
 "worksheets": [
  {
   "cells": [
    {
     "cell_type": "code",
     "collapsed": false,
     "input": [
      "%load_ext autoreload\n",
      "%autoreload 2\n",
      "\n",
      "import scamp as sc\n",
      "import numpy as np"
     ],
     "language": "python",
     "metadata": {},
     "outputs": [
      {
       "output_type": "stream",
       "stream": "stdout",
       "text": [
        "The autoreload extension is already loaded. To reload it, use:\n",
        "  %reload_ext autoreload\n"
       ]
      }
     ],
     "prompt_number": 72
    },
    {
     "cell_type": "code",
     "collapsed": false,
     "input": [
      "dim = sc.dim(years = 100)\n",
      "world = sc.world(dim)\n",
      "world.ice.C_r=0.05"
     ],
     "language": "python",
     "metadata": {},
     "outputs": [],
     "prompt_number": 173
    },
    {
     "cell_type": "code",
     "collapsed": false,
     "input": [
      "def c_w(world):\n",
      "    c_w = world.ocean.c_w\n",
      "    return c_w\n",
      "\n",
      "world.ocean.c_w_func = c_w"
     ],
     "language": "python",
     "metadata": {},
     "outputs": [],
     "prompt_number": 183
    },
    {
     "cell_type": "code",
     "collapsed": false,
     "input": [
      "def Q_lw(world):\n",
      "    Q_lw = 0\n",
      "    return Q_lw\n",
      "\n",
      "world.atmos.Q_lw_func = Q_lw"
     ],
     "language": "python",
     "metadata": {},
     "outputs": [],
     "prompt_number": 184
    },
    {
     "cell_type": "code",
     "collapsed": false,
     "input": [
      "def Q_sw(world):\n",
      "    Q_sw = 0\n",
      "    return Q_sw\n",
      "\n",
      "world.atmos.Q_sw_func = Q_sw"
     ],
     "language": "python",
     "metadata": {},
     "outputs": [],
     "prompt_number": 185
    },
    {
     "cell_type": "code",
     "collapsed": false,
     "input": [
      "def dp_ice(world):\n",
      "    dp_ice = 0\n",
      "    return dp_ice\n",
      "\n",
      "world.ice.dp_ice_func = dp_ice"
     ],
     "language": "python",
     "metadata": {},
     "outputs": [],
     "prompt_number": 186
    },
    {
     "cell_type": "code",
     "collapsed": false,
     "input": [
      "def I_export(world):\n",
      "    I_export = 0\n",
      "    return I_export\n",
      "\n",
      "world.ice.I_export_func = I_export"
     ],
     "language": "python",
     "metadata": {},
     "outputs": [],
     "prompt_number": 187
    },
    {
     "cell_type": "code",
     "collapsed": false,
     "input": [
      "def Q_int(world):\n",
      "    Q_int = np.zeros(shape=(world.dim.n_x, world.dim.n_y, world.ocean.layers))\n",
      "    Q_int[:,:,0] = 0 #ice - ML\n",
      "    Q_int[:,:,1] = 2 * world.ocean.k_t_tot[:,:,1] * world.ocean.c_w[:,:,1] * (world.ocean.p[:,:,0] * world.ocean.T[:,:,0] - world.ocean.p[:,:,1] * world.ocean.T[:,:,1]) / (world.ocean.h[0] + world.ocean.h[1]) #ML- PC\n",
      "    Q_int[:,:,2] = 2 * world.ocean.k_t_tot[:,:,2] * world.ocean.c_w[:,:,2] * (world.ocean.p[:,:,1] * world.ocean.T[:,:,1] - world.ocean.p[:,:,2] * world.ocean.T[:,:,2]) / (world.ocean.h[1] + world.ocean.h[2]) #PC - DP\n",
      "    Q_int[:,:,3] = 2 * world.ocean.k_t_tot[:,:,3] * world.ocean.c_w[:,:,3] * (world.ocean.p[:,:,2] * world.ocean.T[:,:,2] - world.ocean.p[:,:,3] * world.ocean.T[:,:,3]) / (world.ocean.h[2] + world.ocean.h[3]) #DP - AB\n",
      "    return Q_int\n",
      "\n",
      "world.ocean.Q_int_func = Q_int"
     ],
     "language": "python",
     "metadata": {},
     "outputs": [],
     "prompt_number": 188
    },
    {
     "cell_type": "code",
     "collapsed": false,
     "input": [
      "world.ocean.test = 0"
     ],
     "language": "python",
     "metadata": {},
     "outputs": [],
     "prompt_number": 189
    },
    {
     "cell_type": "code",
     "collapsed": false,
     "input": [
      "world = sc.ode_solver.forward_euler(world)"
     ],
     "language": "python",
     "metadata": {},
     "outputs": [],
     "prompt_number": 190
    },
    {
     "cell_type": "code",
     "collapsed": false,
     "input": [
      "world.print_all()"
     ],
     "language": "python",
     "metadata": {},
     "outputs": [
      {
       "output_type": "stream",
       "stream": "stdout",
       "text": [
        "T \n",
        "[[[ 0.20557087  0.2232251   4.33672188  1.00033912]]] \n",
        "\n",
        "S \n",
        "[[[ 32.03951343  31.99616977  31.99935146  34.99996297]]] \n",
        "\n",
        "V \n",
        "[[ 1.]] \n",
        "\n"
       ]
      }
     ],
     "prompt_number": 191
    },
    {
     "cell_type": "code",
     "collapsed": false,
     "input": [
      "world.plot_all()"
     ],
     "language": "python",
     "metadata": {},
     "outputs": [],
     "prompt_number": 192
    },
    {
     "cell_type": "code",
     "collapsed": false,
     "input": [
      "world.plot_con()"
     ],
     "language": "python",
     "metadata": {},
     "outputs": [
      {
       "output_type": "stream",
       "stream": "stdout",
       "text": [
        "1.00000624941\n"
       ]
      }
     ],
     "prompt_number": 193
    },
    {
     "cell_type": "code",
     "collapsed": false,
     "input": [
      "world.plot_con_2()"
     ],
     "language": "python",
     "metadata": {},
     "outputs": [
      {
       "output_type": "stream",
       "stream": "stdout",
       "text": [
        "(2000,)\n",
        "(2000,)\n"
       ]
      }
     ],
     "prompt_number": 135
    },
    {
     "cell_type": "code",
     "collapsed": false,
     "input": [],
     "language": "python",
     "metadata": {},
     "outputs": [],
     "prompt_number": 124
    },
    {
     "cell_type": "code",
     "collapsed": false,
     "input": [],
     "language": "python",
     "metadata": {},
     "outputs": []
    }
   ],
   "metadata": {}
  }
 ]
}