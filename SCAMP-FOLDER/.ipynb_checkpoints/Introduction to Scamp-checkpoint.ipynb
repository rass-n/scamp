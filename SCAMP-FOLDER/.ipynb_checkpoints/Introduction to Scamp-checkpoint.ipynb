{
 "metadata": {
  "name": ""
 },
 "nbformat": 3,
 "nbformat_minor": 0,
 "worksheets": [
  {
   "cells": [
    {
     "cell_type": "code",
     "collapsed": false,
     "input": [
      "%load_ext autoreload\n",
      "%autoreload 2\n",
      "\n",
      "import scamp as sc\n",
      "\n",
      "import numpy as np"
     ],
     "language": "python",
     "metadata": {},
     "outputs": [
      {
       "output_type": "stream",
       "stream": "stdout",
       "text": [
        "The autoreload extension is already loaded. To reload it, use:\n",
        "  %reload_ext autoreload\n"
       ]
      }
     ],
     "prompt_number": 161
    },
    {
     "cell_type": "heading",
     "level": 1,
     "metadata": {},
     "source": [
      "Basic Introduction"
     ]
    },
    {
     "cell_type": "heading",
     "level": 2,
     "metadata": {},
     "source": [
      "Create a world!"
     ]
    },
    {
     "cell_type": "heading",
     "level": 4,
     "metadata": {},
     "source": [
      "Define dimensions for grid and time."
     ]
    },
    {
     "cell_type": "code",
     "collapsed": false,
     "input": [
      "dim = sc.dim() #Define dimensions for grid and time."
     ],
     "language": "python",
     "metadata": {},
     "outputs": [],
     "prompt_number": 140
    },
    {
     "cell_type": "heading",
     "level": 4,
     "metadata": {},
     "source": [
      "Define world with desired dimensions"
     ]
    },
    {
     "cell_type": "code",
     "collapsed": false,
     "input": [
      "world = sc.world(dim) #Creates a grid including Ocean, Ice and Atmosphere "
     ],
     "language": "python",
     "metadata": {},
     "outputs": [],
     "prompt_number": 141
    },
    {
     "cell_type": "heading",
     "level": 4,
     "metadata": {},
     "source": [
      "Print the world"
     ]
    },
    {
     "cell_type": "code",
     "collapsed": false,
     "input": [
      "world.print_all()"
     ],
     "language": "python",
     "metadata": {},
     "outputs": [
      {
       "output_type": "stream",
       "stream": "stdout",
       "text": [
        "T \n",
        "[[[-1. -1.  4.  1.]]] \n",
        "\n",
        "S \n",
        "[[[ 34.   34.8  32.5  35. ]]] \n",
        "\n",
        "V \n",
        "[[ 3.]] \n",
        "\n"
       ]
      }
     ],
     "prompt_number": 142
    },
    {
     "cell_type": "heading",
     "level": 2,
     "metadata": {},
     "source": [
      "Make a simulation"
     ]
    },
    {
     "cell_type": "code",
     "collapsed": false,
     "input": [
      "world = sc.ode_solver.forward_euler(world) #forward euler with timesteps from dim."
     ],
     "language": "python",
     "metadata": {},
     "outputs": [],
     "prompt_number": 145
    },
    {
     "cell_type": "heading",
     "level": 2,
     "metadata": {},
     "source": [
      "Plot the results"
     ]
    },
    {
     "cell_type": "code",
     "collapsed": false,
     "input": [
      "world.plot_all()"
     ],
     "language": "python",
     "metadata": {},
     "outputs": [],
     "prompt_number": 146
    },
    {
     "cell_type": "heading",
     "level": 1,
     "metadata": {},
     "source": [
      "Introduction to Dim()"
     ]
    },
    {
     "cell_type": "heading",
     "level": 3,
     "metadata": {},
     "source": [
      "Create a world with a 4x3 grid"
     ]
    },
    {
     "cell_type": "code",
     "collapsed": false,
     "input": [
      "dim = sc.dim(n_x = 4, n_y = 3)"
     ],
     "language": "python",
     "metadata": {},
     "outputs": [],
     "prompt_number": 147
    },
    {
     "cell_type": "code",
     "collapsed": false,
     "input": [
      "world = sc.world(dim)"
     ],
     "language": "python",
     "metadata": {},
     "outputs": [],
     "prompt_number": 148
    },
    {
     "cell_type": "code",
     "collapsed": false,
     "input": [
      "world.print_layer('ML')\n",
      "world.print_layer('ice')"
     ],
     "language": "python",
     "metadata": {},
     "outputs": [
      {
       "output_type": "stream",
       "stream": "stdout",
       "text": [
        "T \n",
        "[[-1. -1. -1.]\n",
        " [-1. -1. -1.]\n",
        " [-1. -1. -1.]\n",
        " [-1. -1. -1.]] \n",
        "\n",
        "S \n",
        "[[ 34.  34.  34.]\n",
        " [ 34.  34.  34.]\n",
        " [ 34.  34.  34.]\n",
        " [ 34.  34.  34.]] \n",
        "\n",
        "V \n",
        "[[ 3.  3.  3.]\n",
        " [ 3.  3.  3.]\n",
        " [ 3.  3.  3.]\n",
        " [ 3.  3.  3.]] \n",
        "\n"
       ]
      }
     ],
     "prompt_number": 149
    },
    {
     "cell_type": "heading",
     "level": 3,
     "metadata": {},
     "source": [
      "Change the time scale to 10-years with a stepsize of 1/100 year"
     ]
    },
    {
     "cell_type": "code",
     "collapsed": false,
     "input": [
      "dim = sc.dim(years=10, dt = 1/100.)"
     ],
     "language": "python",
     "metadata": {},
     "outputs": [],
     "prompt_number": 150
    },
    {
     "cell_type": "markdown",
     "metadata": {},
     "source": [
      "*Both the timescale $years$ and stepsize $dt$ are defined in years"
     ]
    },
    {
     "cell_type": "heading",
     "level": 1,
     "metadata": {},
     "source": [
      "Introduction to Ocean(), ice() and atmos()"
     ]
    },
    {
     "cell_type": "heading",
     "level": 2,
     "metadata": {},
     "source": [
      "Define Ocean-, Ice- and Atmosphere-module separately with custom parameters"
     ]
    },
    {
     "cell_type": "code",
     "collapsed": false,
     "input": [
      "dim = sc.dim()\n",
      "\n",
      "ocean = sc.ocean(dim, layers = 2, T_start = [1, 20], S_start = [33, 34])\n",
      "\n",
      "atmos = sc.atmos(dim, Q_lw_start = 310)\n",
      "\n",
      "ice = sc.ice(dim, I_export = 0)\n",
      "\n",
      "world = sc.world(dim, ocean_start = ocean, atmos_start = atmos, ice_start = ice)"
     ],
     "language": "python",
     "metadata": {},
     "outputs": [],
     "prompt_number": 151
    },
    {
     "cell_type": "heading",
     "level": 2,
     "metadata": {},
     "source": [
      "Access variables and parameters"
     ]
    },
    {
     "cell_type": "heading",
     "level": 4,
     "metadata": {},
     "source": [
      "Ocean"
     ]
    },
    {
     "cell_type": "code",
     "collapsed": false,
     "input": [
      "world.ocean.T #depths"
     ],
     "language": "python",
     "metadata": {},
     "outputs": [
      {
       "metadata": {},
       "output_type": "pyout",
       "prompt_number": 152,
       "text": [
        "array([[[  1.,  20.]]])"
       ]
      }
     ],
     "prompt_number": 152
    },
    {
     "cell_type": "heading",
     "level": 4,
     "metadata": {},
     "source": [
      "Ice-layer"
     ]
    },
    {
     "cell_type": "code",
     "collapsed": false,
     "input": [
      "world.ice.x_ice #fraction of gridpoint covered in ice"
     ],
     "language": "python",
     "metadata": {},
     "outputs": [
      {
       "metadata": {},
       "output_type": "pyout",
       "prompt_number": 153,
       "text": [
        "array([[ 0.5]])"
       ]
      }
     ],
     "prompt_number": 153
    },
    {
     "cell_type": "heading",
     "level": 4,
     "metadata": {},
     "source": [
      "Atmosphere"
     ]
    },
    {
     "cell_type": "code",
     "collapsed": false,
     "input": [
      "world.atmos.Q_lw #long-wave raditation"
     ],
     "language": "python",
     "metadata": {},
     "outputs": [
      {
       "metadata": {},
       "output_type": "pyout",
       "prompt_number": 154,
       "text": [
        "array([[[ 310.]]])"
       ]
      }
     ],
     "prompt_number": 154
    },
    {
     "cell_type": "heading",
     "level": 2,
     "metadata": {},
     "source": [
      "Add variables and parameters"
     ]
    },
    {
     "cell_type": "code",
     "collapsed": false,
     "input": [
      "dim = sc.dim()\n",
      "world = sc.world(dim)"
     ],
     "language": "python",
     "metadata": {},
     "outputs": [],
     "prompt_number": 155
    },
    {
     "cell_type": "heading",
     "level": 4,
     "metadata": {},
     "source": [
      "Add parameter independent of grid"
     ]
    },
    {
     "cell_type": "code",
     "collapsed": false,
     "input": [
      "world.ocean.fish_heat = 4 #heat capacity of a fish"
     ],
     "language": "python",
     "metadata": {},
     "outputs": [],
     "prompt_number": 156
    },
    {
     "cell_type": "heading",
     "level": 4,
     "metadata": {},
     "source": [
      "Add grid dependent variable"
     ]
    },
    {
     "cell_type": "code",
     "collapsed": false,
     "input": [
      "world.ocean.fish = world.ocean.new_value(start = 0) #"
     ],
     "language": "python",
     "metadata": {},
     "outputs": [],
     "prompt_number": 157
    },
    {
     "cell_type": "heading",
     "level": 4,
     "metadata": {},
     "source": [
      "Define differential equation for a variable"
     ]
    },
    {
     "cell_type": "markdown",
     "metadata": {},
     "source": [
      "\\begin{equation}\n",
      "\\frac{d \\text{fish}}{dt} = C_{fish} X, \\quad X \\in U(-1,1)\n",
      "\\end{equation}"
     ]
    },
    {
     "cell_type": "code",
     "collapsed": false,
     "input": [
      "def fish_ode(world, ode):\n",
      "    ode[world.ocean, 'fish'] = world.ocean.fish_heat * np.random.randint(-1,1)\n",
      "    return ode\n",
      "\n",
      "world.ocean.ode_func_extra = fish_ode "
     ],
     "language": "python",
     "metadata": {},
     "outputs": [],
     "prompt_number": 158
    },
    {
     "cell_type": "heading",
     "level": 4,
     "metadata": {},
     "source": [
      "Run ode-solver"
     ]
    },
    {
     "cell_type": "code",
     "collapsed": false,
     "input": [
      "world = sc.ode_solver.forward_euler(world)"
     ],
     "language": "python",
     "metadata": {},
     "outputs": [],
     "prompt_number": 159
    }
   ],
   "metadata": {}
  }
 ]
}