{
 "metadata": {
  "name": ""
 },
 "nbformat": 3,
 "nbformat_minor": 0,
 "worksheets": [
  {
   "cells": [
    {
     "cell_type": "heading",
     "level": 1,
     "metadata": {},
     "source": [
      "Thesis - SCAMP demonstration"
     ]
    },
    {
     "cell_type": "heading",
     "level": 4,
     "metadata": {},
     "source": [
      "Import packages"
     ]
    },
    {
     "cell_type": "code",
     "collapsed": false,
     "input": [
      "try: #if the package is installed or placed in same directory\n",
      "    import scamp as sc #import master-project package\n",
      "\n",
      "except ImportError: #check upper directory for scamp package.\n",
      "    try:    \n",
      "        import sys\n",
      "        sys.path.append(\"..\")\n",
      "        import scamp as sc\n",
      "        \n",
      "    except: #could not find scamp package\n",
      "        sys.exit(\"scamp is not installed or placed in the correct directory\")\n",
      "\n",
      "import numpy as np\n",
      "    \n"
     ],
     "language": "python",
     "metadata": {},
     "outputs": [],
     "prompt_number": 1
    },
    {
     "cell_type": "heading",
     "level": 3,
     "metadata": {},
     "source": [
      "Simple 1 dimensional example"
     ]
    },
    {
     "cell_type": "code",
     "collapsed": false,
     "input": [
      "dim = sc.dim(years = 100, dt = 1/20.0) # Create dimensions.\n",
      "\n",
      "world = sc.world(dim) # Create world. atmos, ice and ocean\n",
      "\n",
      "world = sc.forward_euler(world) #Run solver\n",
      "\n",
      "world.plot_all()"
     ],
     "language": "python",
     "metadata": {},
     "outputs": []
    },
    {
     "cell_type": "heading",
     "level": 3,
     "metadata": {},
     "source": [
      "Basic edit - Singh model"
     ]
    },
    {
     "cell_type": "heading",
     "level": 5,
     "metadata": {},
     "source": [
      "Define new world for singh"
     ]
    },
    {
     "cell_type": "code",
     "collapsed": true,
     "input": [
      "world_singh = sc.world(dim) #define default world"
     ],
     "language": "python",
     "metadata": {},
     "outputs": []
    },
    {
     "cell_type": "heading",
     "level": 5,
     "metadata": {},
     "source": [
      "Define new function for polynya ice"
     ]
    },
    {
     "cell_type": "code",
     "collapsed": false,
     "input": [
      "def dp_ice_singh(world): #polynya ice added.\n",
      "    \n",
      "    dp_ice = np.zeros(shape=(world.dim.n_x, world.dim.n_y))\n",
      "    \n",
      "    putmask = world.ice.h_ice >= 1 \n",
      "                            #if winter=>1 summer=>0    If h_ice < 1        if h_ice > = 1        \n",
      "    dp_ice[:,:] = dp_ice + (1 - world.dim.season) * (~putmask * dp_ice + putmask * (2 / world.dim.year_s)) #[m/s] int_(cold season) dp_ice dt = 1\n",
      "    \n",
      "    return dp_ice"
     ],
     "language": "python",
     "metadata": {},
     "outputs": []
    },
    {
     "cell_type": "heading",
     "level": 5,
     "metadata": {},
     "source": [
      "Find function pointers."
     ]
    },
    {
     "cell_type": "code",
     "collapsed": false,
     "input": [
      "print world_singh.ice.__doc__"
     ],
     "language": "python",
     "metadata": {},
     "outputs": []
    },
    {
     "cell_type": "heading",
     "level": 5,
     "metadata": {},
     "source": [
      "Set function pointer"
     ]
    },
    {
     "cell_type": "code",
     "collapsed": false,
     "input": [
      "world_singh.ice.dp_ice_func = dp_ice_singh #change the default function-pointer to the new function"
     ],
     "language": "python",
     "metadata": {},
     "outputs": []
    },
    {
     "cell_type": "heading",
     "level": 5,
     "metadata": {},
     "source": [
      "Execute model"
     ]
    },
    {
     "cell_type": "code",
     "collapsed": false,
     "input": [
      "world_singh = sc.forward_euler(world_singh) #extrapolate the world through time\n",
      "world_singh.plot_all() #plot results"
     ],
     "language": "python",
     "metadata": {},
     "outputs": []
    },
    {
     "cell_type": "heading",
     "level": 3,
     "metadata": {},
     "source": [
      "3d model"
     ]
    },
    {
     "cell_type": "code",
     "collapsed": false,
     "input": [
      "dim_3d = sc.dim(n_x = 50, n_y = 50, years = 1, dt = 1/20000.0, save_fraction = 10) #short time frame with very small dt\n",
      "world_3d = sc.world(dim_3d)\n",
      "\n",
      "\n",
      "world_3d.ocean.S[25,25,0] = 35 #change the initial salinity of the top layer at grid x=25, y=25\n",
      "world_3d.ocean.S[35, 40, 0] = 35 #change the initial salinity of the top layer at grid x=35, y=40\n",
      "\n",
      "\n",
      "def T(world): #new temperaturefunction only with horizontal mixing\n",
      "    dT = world.ocean.Q_horiz / (world.ocean.c_w * world.ocean.m)\n",
      "    return dT\n",
      "    \n",
      "world_3d.ocean.temp_func = T #include the new function into SCAMP\n",
      "\n",
      "def S(world): #new salinityfunction only with horizontal mixing\n",
      "    dS = (world.ocean.W_horiz) / (world.ocean.p * world.ocean.h) #[m/s * g/kg]\n",
      "    return dS\n",
      "    \n",
      "world_3d.ocean.salt_func = S    #include the new function into SCAMP\n",
      "    \n",
      "def ice(world): #define the ice-evolution to be zero\n",
      "    dV = 0\n",
      "    return dV\n",
      "    \n",
      "world_3d.ice.V_func = ice #include the new ice-evolution into SCAMP"
     ],
     "language": "python",
     "metadata": {},
     "outputs": [],
     "prompt_number": 2
    },
    {
     "cell_type": "code",
     "collapsed": false,
     "input": [
      "#WARNING. This simulation takes considarable time to execute! For premade results load 'test2' instead of running the following line.\n",
      "\n",
      "#world_3d = sc.forward_euler(world_3d)"
     ],
     "language": "python",
     "metadata": {},
     "outputs": []
    },
    {
     "cell_type": "code",
     "collapsed": false,
     "input": [
      "world_3d.load('test2') #load premade results. Not available with Github due to size limitations."
     ],
     "language": "python",
     "metadata": {},
     "outputs": [],
     "prompt_number": 3
    },
    {
     "cell_type": "code",
     "collapsed": false,
     "input": [
      "world_3d.animation(world_3d.ocean.S_save[:30,:,:,0]) #simple 3d animation of the salinity evolution in the top layer."
     ],
     "language": "python",
     "metadata": {},
     "outputs": [],
     "prompt_number": 4
    },
    {
     "cell_type": "heading",
     "level": 4,
     "metadata": {},
     "source": [
      "Alternative 3d"
     ]
    },
    {
     "cell_type": "code",
     "collapsed": false,
     "input": [
      "dim_alt = sc.dim(n_x = 50, n_y = 50, years = 5000, dt=1/20.0, save_fraction = 20)\n",
      "\n",
      "world_alt = sc.world(dim_alt)\n",
      "\n",
      "world_alt.ocean.S[:,:,0] = 32 #change the initial salinity of the top layer\n",
      "world_alt.ocean.S[:,:,1] = 33 #change the initial salinity of the 2nd layer\n",
      "world_alt.ocean.S[:,:,2] = 31.5 #change the initial salinity of the 3rd layer\n",
      "\n",
      "world_alt.ocean.T[25,25,3] = 40 #change the initial temperature of the 4th layer at grid x=25, y=25\n",
      "\n",
      "world_alt.ocean.k_t_horiz = world_alt.ocean.k_t_horiz / 1000.0 #change the horizontal mixing parameter\n",
      "world_alt.ocean.k_s_horiz = world_alt.ocean.k_s_horiz / 1000.0 #change the horizontal mixing parameter"
     ],
     "language": "python",
     "metadata": {},
     "outputs": [],
     "prompt_number": 5
    },
    {
     "cell_type": "code",
     "collapsed": false,
     "input": [
      "#WARNING. This simulation takes considarable time to execute! For premade results load 'test7' instead of running the following line.\n",
      "\n",
      "#world_alt = sc.forward_euler(world_alt) \n"
     ],
     "language": "python",
     "metadata": {},
     "outputs": [],
     "prompt_number": 6
    },
    {
     "cell_type": "code",
     "collapsed": false,
     "input": [
      "world_alt.load('test7') #load premade results. Not available with Github due size limitations"
     ],
     "language": "python",
     "metadata": {},
     "outputs": [],
     "prompt_number": 7
    },
    {
     "cell_type": "heading",
     "level": 4,
     "metadata": {},
     "source": [
      "Animation around 1st convection. "
     ]
    },
    {
     "cell_type": "code",
     "collapsed": false,
     "input": [
      "world_alt.animation(world_alt.ocean.T_save[420:500,:,:,2], vmin = 3, vmax=5)"
     ],
     "language": "python",
     "metadata": {},
     "outputs": [],
     "prompt_number": 8
    },
    {
     "cell_type": "heading",
     "level": 4,
     "metadata": {},
     "source": [
      "Animation around 2nd convection"
     ]
    },
    {
     "cell_type": "code",
     "collapsed": false,
     "input": [
      "world_alt.animation(world_alt.ocean.T_save[4000:4500,:,:,2], vmin = 3, vmax=10)"
     ],
     "language": "python",
     "metadata": {},
     "outputs": [],
     "prompt_number": 9
    }
   ],
   "metadata": {}
  }
 ]
}